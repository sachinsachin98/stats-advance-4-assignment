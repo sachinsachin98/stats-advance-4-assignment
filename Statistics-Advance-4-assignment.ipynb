{
 "cells": [
  {
   "cell_type": "markdown",
   "id": "27bb1bef-1793-400f-bc41-826092aa6f5f",
   "metadata": {},
   "source": [
    "#Q1\n",
    "T-Test:\n",
    "The t-test is used when the population standard deviation is unknown, and the sample size is small. It uses the t-distribution to account for the uncertainty introduced by estimating the population standard deviation from the sample. There are different types of t-tests, such as the independent samples t-test for comparing means of two independent groups and the paired samples t-test for comparing means of paired or matched observations.\n",
    "\n",
    "Example Scenario for T-Test:\n",
    "Suppose you want to test whether a new teaching method has a significant effect on student performance. You collect test scores from two groups: one group taught using the new method and another group taught using the traditional method. Since you don't know the population standard deviation of the test scores, and your sample sizes are relatively small, you would use an independent samples t-test to determine if there is a statistically significant difference in the means of the two groups.\n",
    "\n",
    "Z-Test:\n",
    "The z-test is used when the population standard deviation is known or when the sample size is large (typically n > 30). It assumes that the sample mean follows a normal distribution due to the Central Limit Theorem. Because of the larger sample size assumption, the z-test can be more powerful than the t-test.\n",
    "\n",
    "Example Scenario for Z-Test:\n",
    "Imagine you are assessing the effectiveness of a weight loss program. You have a large sample of participants (more than 30) and you know the population standard deviation of weight loss for this program. You want to determine if the average weight loss in your sample is significantly different from a claimed average weight loss of 5 kg. In this case, you could use a z-test to test the hypothesis and make a decision about whether the program's average weight loss is significantly different from the claimed value."
   ]
  },
  {
   "cell_type": "markdown",
   "id": "8b39e2e3-c5e9-4c15-8eca-f7b2a4a470d8",
   "metadata": {},
   "source": [
    "#Q2\n",
    "One-Tailed Test:\n",
    "A one-tailed test, also known as a directional test, is a type of hypothesis test where the null hypothesis is tested against an alternative hypothesis in only one direction. In other words, you are only interested in detecting a change or difference in one specific direction. The critical region for the test is located entirely on one side of the distribution, either the left side or the right side, depending on the specific hypothesis being tested.\n",
    "\n",
    "There are two types of one-tailed tests:\n",
    "\n",
    "Right-Tailed Test: In a right-tailed test, the critical region is in the upper tail of the distribution. This type of test is used when you are testing whether a sample statistic is significantly greater than a certain value.\n",
    "Left-Tailed Test: In a left-tailed test, the critical region is in the lower tail of the distribution. This type of test is used when you are testing whether a sample statistic is significantly less than a certain value.\n",
    "Two-Tailed Test:\n",
    "A two-tailed test, also known as a non-directional test, is a type of hypothesis test where the null hypothesis is tested against an alternative hypothesis in both directions. In this case, you are interested in detecting a change or difference in either direction from the hypothesized value. The critical region for the test is divided between the two tails of the distribution.\n",
    "\n",
    "Two-tailed tests are used when you want to test whether a sample statistic is significantly different from a certain value, without specifying whether it is greater or smaller. The critical region includes both extremes of the distribution.\n",
    "\n",
    "Example Scenarios:\n",
    "\n",
    "One-Tailed Test: Suppose you are testing a new drug and you expect it to increase participants' reaction times. You conduct a one-tailed test to determine if the drug's effect is statistically significant in increasing reaction times.\n",
    "\n",
    "Two-Tailed Test: Consider a scenario where you are testing whether the average IQ score of a group of students is significantly different from a national average of 100. You are not sure if the group's IQ scores will be higher or lower, so you use a two-tailed test to capture differences in both directions."
   ]
  },
  {
   "cell_type": "markdown",
   "id": "5fda23ac-2a2f-4572-950b-e7eb4ee260f4",
   "metadata": {},
   "source": [
    "#Q3\n",
    "In hypothesis testing, Type I and Type II errors are two possible mistakes that can occur when making a decision about a null hypothesis. These errors are associated with the outcomes of hypothesis tests and have different implications in terms of the conclusions drawn from the test.\n",
    "\n",
    "Type I Error (False Positive):\n",
    "A Type I error occurs when the null hypothesis is rejected when it is actually true. In other words, it's a false alarm where you conclude that there is an effect or a difference when there is none in reality. The probability of committing a Type I error is denoted as the significance level (α), which is typically set before conducting the test.\n",
    "\n",
    "Example Scenario - Type I Error:\n",
    "Imagine you're testing a new drug's effectiveness in reducing cholesterol levels. The null hypothesis states that the drug has no effect on cholesterol levels. If you conduct a hypothesis test and reject the null hypothesis, claiming that the drug does indeed reduce cholesterol levels, but in reality, it has no effect, you have committed a Type I error. This could lead to unnecessary medical interventions and expenses based on incorrect conclusions.\n",
    "\n",
    "Type II Error (False Negative):\n",
    "A Type II error occurs when the null hypothesis is not rejected when it is actually false. In other words, you fail to detect an effect or a difference that does exist. The probability of committing a Type II error is denoted as β.\n",
    "\n",
    "Example Scenario - Type II Error:\n",
    "Continuing with the example of testing a new drug's effectiveness, consider that the drug does indeed reduce cholesterol levels. If you conduct a hypothesis test but fail to reject the null hypothesis, concluding that the drug has no effect, you have committed a Type II error. This could lead to missed opportunities for medical advancements and improvements in patient health."
   ]
  },
  {
   "cell_type": "markdown",
   "id": "d806edeb-f586-423e-9c25-bc5ebdf46047",
   "metadata": {},
   "source": [
    "#Q4\n",
    "Bayes's Theorem is a fundamental concept in probability theory that describes how to update the probability of a hypothesis based on new evidence. It combines prior beliefs or knowledge with observed data to revise the probability estimate of a hypothesis.\n",
    "\n",
    "The theorem is expressed as:\n",
    "P(A∣B)= P(B∣A)⋅P(A)/P(B)\n",
    "\n",
    "Where:\n",
    "P(A∣B) is the probability of hypothesis A being true given evidence B.\n",
    "\n",
    "P(B∣A) is the probability of observing evidence B given that hypothesis A is true.\n",
    "\n",
    "P(A) is the prior probability of hypothesis A being true.\n",
    "\n",
    "P(B) is the probability of observing evidence B.\n",
    "Example Scenario: Medical Test\n",
    "Let's illustrate Bayes's Theorem with a medical test example. Imagine you are using a diagnostic test to determine whether a patient has a certain rare disease (Disease A). The test result can be positive (indicating the presence of the disease) or negative (indicating the absence of the disease).\n",
    "\n",
    "Given:\n",
    "\n",
    "The prior probability that a randomly selected person has Disease A is 0.01 (1% of the population has the disease), so \n",
    "\n",
    "P(A)=0.01.\n",
    "The test's sensitivity (true positive rate) is 0.95, meaning that \n",
    "\n",
    "P(B∣A)=0.95, i.e., the probability of testing positive given that the patient has the disease.\n",
    "The test's specificity (true negative rate) is 0.90, meaning that \n",
    "\n",
    "P(¬B∣¬A)=0.90, i.e., the probability of testing negative given that the patient doesn't have the disease.\n",
    "Now, let's calculate the probability that a person actually has the disease given that they tested positive, \n",
    "\n",
    "P(A∣B), using Bayes's Theorem.\n",
    "\n",
    "P(A∣B)= P(B∣A)⋅P(A)/P(B)\n",
    "\n",
    "First, calculate \n",
    "\n",
    "P(B), the probability of testing positive:\n",
    "\n",
    "P(B)=P(B∣A)⋅P(A)+P(B∣¬A)⋅P(¬A)\n",
    "\n",
    "P(B)=(0.95⋅0.01)+(0.10⋅0.99)=0.1045\n",
    "\n",
    "Now, apply Bayes's Theorem:\n",
    "\n",
    "P(A∣B)≈0.0908\n",
    "\n",
    "So, even though the test is relatively accurate, a person who tests positive still has only about an 9.08% chance of actually having the disease due to the low prevalence of the disease in the population.\n",
    "\n",
    "This example demonstrates how Bayes's Theorem helps us update our beliefs based on new information, considering both the test's accuracy and the prior probability of the hypothesis being true."
   ]
  },
  {
   "cell_type": "markdown",
   "id": "3d80ab7d-ecf8-4a6a-9e88-885c645cced2",
   "metadata": {},
   "source": [
    "#Q5\n",
    "A confidence interval is a range of values that is likely to contain a population parameter, such as a mean or proportion, with a certain level of confidence. It is a way of quantifying the uncertainty of an estimate based on a sample of data.\n",
    "\n",
    "The confidence interval is typically expressed as an interval estimate, such as \"95% confidence interval for the mean is between 3.2 and 5.8\". This means that if we were to repeat the sampling process many times, 95% of the time the true population mean would be within this range.\n",
    "\n",
    "To calculate a confidence interval, we need to know the sample size, the sample mean, and the standard error of the mean (SEM), which is a measure of the variation in the sample means. The confidence interval is based on the standard normal distribution or t-distribution, depending on the sample size and whether the population standard deviation is known.\n",
    "\n",
    "Here is an example of how to calculate a confidence interval:\n",
    "Suppose we want to estimate the mean weight of a certain population of adults. We take a random sample of 100 people and measure their weights, and find that the sample mean is 72.5 kilograms and the sample standard deviation is 10.3 kilograms. We want to calculate a 99% confidence interval for the population mean weight.\n",
    "\n",
    "Since the sample size is greater than 30 and the population standard deviation is unknown, we use the t-distribution. The degrees of freedom is n-1, which is 99 in this case.\n",
    "\n",
    "First, we calculate the standard error of the mean:\n",
    "\n",
    "SEM = s / sqrt(n) = 10.3 / sqrt(100) = 1.03\n",
    "\n",
    "Next, we find the t-value for a 99% confidence level and 99 degrees of freedom using a t-table or calculator. The value is approximately 2.63.\n",
    "\n",
    "The lower and upper bounds of the confidence interval are calculated as:\n",
    "\n",
    "Lower bound = sample mean - t-value x SEM = 72.5 - 2.63 x 1.03 = 69.8\n",
    "Upper bound = sample mean + t-value x SEM = 72.5 + 2.63 x 1.03 = 75.2\n",
    "Therefore, the 99% confidence interval for the population mean weight is between 69.8 and 75.2 kilograms. This means that we are 99% confident that the true population mean weight lies within this range."
   ]
  },
  {
   "cell_type": "code",
   "execution_count": 3,
   "id": "c13e8ce4-348a-427f-8cc2-87bdd6c5128b",
   "metadata": {},
   "outputs": [
    {
     "name": "stdout",
     "output_type": "stream",
     "text": [
      "t_value for 100 samples with significance level of 0.01 is : 2.63\n",
      "The 99% confidence interval for population mean is (69.8, 75.2)\n"
     ]
    }
   ],
   "source": [
    "from math import sqrt\n",
    "import scipy.stats as stats\n",
    "\n",
    "sample_mean = 72.5\n",
    "sample_std = 10.3\n",
    "n = 100\n",
    "\n",
    "SEM  = sample_std/sqrt(n)\n",
    "\n",
    "alpha = 0.01\n",
    "\n",
    "t_value = stats.t.ppf(1-alpha/2, df=n-1)\n",
    "print(f't_value for {n} samples with significance level of {alpha} is : {t_value:.2f}')\n",
    "\n",
    "lower_bound = sample_mean - t_value * SEM\n",
    "upper_bound = sample_mean + t_value * SEM\n",
    "\n",
    "print(f\"The 99% confidence interval for population mean is ({lower_bound:.1f}, {upper_bound:.1f})\")"
   ]
  },
  {
   "cell_type": "markdown",
   "id": "5c85f3f6-314b-4486-8a12-a5b835ebfde1",
   "metadata": {},
   "source": [
    "#Q6\n",
    "Suppose you're investigating a rare genetic disorder (Event A) that occurs in approximately 1 in 100,000 individuals in a certain population. You have a genetic test that detects the disorder with 99% accuracy (sensitivity) when the individual actually has the disorder, and it correctly identifies individuals without the disorder (specificity) with a rate of 98%.\n",
    "\n",
    "Now, you encounter an individual who has tested positive for the disorder using this genetic test. What is the probability that this individual actually has the disorder?\n",
    "\n",
    "Given:\n",
    "\n",
    "Prior probability of the disorder (P(A)): 1 in 100,000 (P(A)=0.00001).\n",
    "Sensitivity of the test (P(B∣A)): 99% (P(B∣A)=0.99).\n",
    "Specificity of the test (P(¬B∣¬A)): 98% (P(¬B∣¬A)=0.98).\n",
    "Solution:\n",
    "We want to find P(A∣B), which is the probability of the individual having the disorder given that they tested positive.\n",
    "\n",
    "Using Bayes' Theorem:P(A∣B)= P(B∣A)⋅P(A)/P(B)\n",
    "\n",
    "First, calculate \n",
    "P(B), the probability of testing positive:\n",
    "P(B)=P(B∣A)⋅P(A)+P(B∣¬A)⋅P(¬A)\n",
    "\n",
    "P(B)=(0.99⋅0.00001)+(0.02⋅0.99999)=0.0209798\n",
    "\n",
    "Now, apply Bayes' Theorem:\n",
    "\n",
    "P(A∣B)≈0.0004726\n",
    "\n",
    "So, even though the individual tested positive for the disorder, the probability that they actually have the disorder is only about 0.04726%, which is much lower than the initial prior probability of 0.01%. This is because the test's accuracy, though high, is influenced by the low prevalence of the disorder in the population.\n",
    "\n"
   ]
  },
  {
   "cell_type": "code",
   "execution_count": 4,
   "id": "c68c3cc3-d8d4-4f60-968e-893468d264f3",
   "metadata": {},
   "outputs": [
    {
     "name": "stdout",
     "output_type": "stream",
     "text": [
      "t statistic for significance level 0.05 , sample size of 30 is : 2.05\n",
      "The 95% confidence interval is (48.13, 51.87)\n"
     ]
    }
   ],
   "source": [
    "#Q7\n",
    "import math\n",
    "import scipy.stats as stats\n",
    "\n",
    "sample_mean = 50\n",
    "sample_std_dev = 5\n",
    "sample_size = 30\n",
    "\n",
    "alpha = 0.05\n",
    "\n",
    "t_crit = stats.t.ppf(1-alpha/2, df=sample_size-1)\n",
    "print(f't statistic for significance level {alpha} , sample size of {sample_size} is : {t_crit:.2f}')\n",
    "\n",
    "std_error = sample_std_dev / math.sqrt(sample_size)\n",
    "\n",
    "lower_bound = sample_mean - t_crit * std_error\n",
    "upper_bound = sample_mean + t_crit * std_error\n",
    "\n",
    "print(f\"The 95% confidence interval is ({lower_bound:.2f}, {upper_bound:.2f})\")"
   ]
  },
  {
   "cell_type": "markdown",
   "id": "ea0a6fb2-7a72-4f18-baa1-e4f29f6a07ed",
   "metadata": {},
   "source": [
    "#From above results we can say with 95% condfidence that the POPULATION MEAN Lies in between 48.13 and 51.87."
   ]
  },
  {
   "cell_type": "markdown",
   "id": "d84aceee-b11d-4708-8a95-8dab78dd610c",
   "metadata": {},
   "source": [
    "#Q8\n",
    "The margin of error in a confidence interval is the range of values around the sample statistic (such as the sample mean) within which we expect the true population parameter (such as the population mean) to lie with a certain level of confidence.\n",
    "The margin of error is affected by the sample size, level of confidence, and standard deviation of the population.\n",
    "As the sample size increases, the margin of error decreases because larger samples provide more information about the population, and hence the sample statistics are more likely to be representative of the population.\n",
    "The decrease in margin of error with an increase in sample size follows the square root law, which states that the margin of error decreases by the square root of the sample size.\n",
    "For example, suppose we want to estimate the average height of all students in a university using a random sample of students. We take a sample of 50 students and calculate their average height to be 170 cm with a standard deviation of 5 cm. We want to calculate a 95% confidence interval for the true population mean height.\n",
    "\n",
    "Using the formula for the margin of error for a confidence interval, we get:\n",
    "Margin of error = z-value * (standard deviation / sqrt(sample size))\n",
    "For a 95% confidence interval, the critical z-value is 1.96. So, plugging in the values, we get:\n",
    "Margin of error = 1.96 * (5 / sqrt(50)) = 1.38 cm\n",
    "This means that we are 95% confident that the true population mean height is within 1.38 cm of our sample mean of 170 cm. If we had taken a larger sample size of 200 students, the margin of error would have been:\n",
    "Margin of error = 1.96 * (5 / sqrt(200)) = 0.98 cm\n",
    "So, a larger sample size would result in a smaller margin of error, making our estimate of the true population mean height more precise."
   ]
  },
  {
   "cell_type": "code",
   "execution_count": 6,
   "id": "ce009d24-895a-4609-80df-97a5ce9b2065",
   "metadata": {},
   "outputs": [
    {
     "name": "stdout",
     "output_type": "stream",
     "text": [
      "The z-score is: 1.0\n"
     ]
    }
   ],
   "source": [
    "#Q9\n",
    "x_value = 75\n",
    "u_value = 70 \n",
    "sigma = 5 \n",
    "\n",
    "# Calculate the z-score\n",
    "z = (x_value - u_value) / sigma\n",
    "\n",
    "print(f\"The z-score is: {z}\")"
   ]
  },
  {
   "cell_type": "markdown",
   "id": "2b83c72b-6aa1-4aec-b864-d6a3b650f6b8",
   "metadata": {},
   "source": [
    "Interpretation\n",
    "This means that the data point is 1 standard deviation above the population mean.\n",
    "A positive z-score indicates that the data point is above the mean, while a negative z-score indicates that it is below the mean.\n",
    "The magnitude of the z-score tells us how far away the data point is from the mean in terms of standard deviations."
   ]
  },
  {
   "cell_type": "code",
   "execution_count": 7,
   "id": "a80896f3-d366-4940-beaa-ba05b0fa5994",
   "metadata": {},
   "outputs": [
    {
     "name": "stdout",
     "output_type": "stream",
     "text": [
      "The percentage of values below a z-score of 1 is: 84.13%\n"
     ]
    }
   ],
   "source": [
    "from scipy.stats import norm\n",
    "\n",
    "percent_below = norm.cdf(z) * 100\n",
    "\n",
    "print(f\"The percentage of values below a z-score of 1 is: {percent_below:.2f}%\")"
   ]
  },
  {
   "cell_type": "code",
   "execution_count": 8,
   "id": "1a0b271d-aa57-41a1-b885-7eb2de397459",
   "metadata": {},
   "outputs": [
    {
     "name": "stdout",
     "output_type": "stream",
     "text": [
      "t-statistic: 16.9706\n",
      "p-value: 0.0\n",
      "Reject the null hypothesis. the drug is significantly effective.\n"
     ]
    }
   ],
   "source": [
    "#Q10\n",
    "import numpy as np\n",
    "from scipy.stats import t\n",
    "\n",
    "alpha = 0.05 \n",
    "null_hypothesis = \"the drug is not significantly effective\"\n",
    "alternative_hypothesis = \"the drug is significantly effective\"\n",
    "\n",
    "mu = 0\n",
    "sample_mean = 6\n",
    "sample_std = 2.5\n",
    "n = 50\n",
    "df = n - 1\n",
    "\n",
    "t_score = (sample_mean - mu) / (sample_std / np.sqrt(n))\n",
    "p_value = 2 * (1 - t.cdf(abs(t_score), df))  # or stats.t.ppf(1 - alpha/2, dof)  # two-tailed t-value\n",
    "\n",
    "print(f\"t-statistic: {t_score:.4f}\")\n",
    "print(f\"p-value: {p_value}\")\n",
    "if p_value < alpha:\n",
    "    print(f\"Reject the null hypothesis. {alternative_hypothesis}.\")\n",
    "else:\n",
    "    print(f\"Fail to reject the null hypothesis. {null_hypothesis}.\")"
   ]
  },
  {
   "cell_type": "code",
   "execution_count": 10,
   "id": "d8e7c4bd-1ae3-4c51-a139-beba32cae503",
   "metadata": {},
   "outputs": [
    {
     "name": "stdout",
     "output_type": "stream",
     "text": [
      "The 95% confidence interval for the proportion of people who are satisfied with their job is (60.82%, 69.18%)\n"
     ]
    }
   ],
   "source": [
    "#Q11\n",
    "import math\n",
    "\n",
    "p = 0.65 \n",
    "n = 500 \n",
    "ci = 0.95\n",
    "alpha = 1-ci\n",
    "z_alpha = 1.96\n",
    "\n",
    "se = math.sqrt((p * (1 - p)) / n)\n",
    "\n",
    "me = z_alpha * se\n",
    "\n",
    "lower_bound = p - me\n",
    "upper_bound = p + me\n",
    "\n",
    "print(f\"The 95% confidence interval for the proportion of people who are satisfied with their job is ({lower_bound*100:.2f}%, {upper_bound*100:.2f}%)\")\n",
    " "
   ]
  },
  {
   "cell_type": "code",
   "execution_count": 11,
   "id": "dec0db0f-c5a1-45b8-b19e-77b61259335f",
   "metadata": {},
   "outputs": [
    {
     "name": "stdout",
     "output_type": "stream",
     "text": [
      "t-statistic: 2.104\n",
      "Degrees of freedom: 58\n",
      "Critical t-value: 2.663\n",
      "p-value: 0.040\n",
      "Since, t_stat < t_crit i.e. 2.104 < 2.663 : Fail to reject null hypothesis.\n",
      "mu1 = mu2 (the means are equal)\n"
     ]
    }
   ],
   "source": [
    "#Q12\n",
    "import numpy as np\n",
    "from scipy.stats import t\n",
    "\n",
    "x1 = 85\n",
    "s1 = 6\n",
    "n1 = 30\n",
    "\n",
    "x2 = 82\n",
    "s2 = 5\n",
    "n2 = 30\n",
    "\n",
    "alpha = 0.01\n",
    "null_hypothesis = \"mu1 = mu2 (the means are equal)\"\n",
    "alternative_hypothesis = \"mu1 != mu2 (the means are not equal)\"\n",
    "\n",
    "sp = np.sqrt(((n1 - 1) * s1 ** 2 + (n2 - 1) * s2 ** 2) / (n1 + n2 - 2))\n",
    "\n",
    "t_stat = (x1 - x2) / (sp * np.sqrt(1 / n1 + 1 / n2))\n",
    "\n",
    "df = n1 + n2 - 2\n",
    "\n",
    "t_crit = t.ppf(1-alpha / 2, df)\n",
    "\n",
    "p_value = 2 * (1 - t.cdf(abs(t_stat), df))\n",
    "\n",
    "print(f\"t-statistic: {t_stat:.3f}\")\n",
    "print(f\"Degrees of freedom: {df}\")\n",
    "print(f\"Critical t-value: {t_crit:.3f}\")\n",
    "print(f\"p-value: {p_value:.3f}\")\n",
    "\n",
    "if abs(t_stat) > t_crit:\n",
    "    print(f\"Since, t_stat > t_crit i.e. {t_stat:.3f} > {t_crit:.3f} : Reject null hypothesis.\")\n",
    "    print(alternative_hypothesis)\n",
    "else:\n",
    "    print(f\"Since, t_stat < t_crit i.e. {t_stat:.3f} < {t_crit:.3f} : Fail to reject null hypothesis.\")\n",
    "    print(null_hypothesis)\n"
   ]
  },
  {
   "cell_type": "code",
   "execution_count": 12,
   "id": "2942ccd2-5b72-41f6-939c-0a2fd37954f3",
   "metadata": {},
   "outputs": [
    {
     "name": "stdout",
     "output_type": "stream",
     "text": [
      "t statistic for 50 samples with 90% confidence is : 1.6766\n",
      "The 90% confidence interval for the true population mean is (63.103, 66.897)\n"
     ]
    }
   ],
   "source": [
    "#Q13\n",
    "import math\n",
    "from scipy.stats import t\n",
    "\n",
    "pop_mean = 60\n",
    "pop_std = 8\n",
    "n = 50\n",
    "sample_mean = 65\n",
    "confidence_level = 0.90\n",
    "alpha = 1 - confidence_level # 1-0.90 = 0.1\n",
    "\n",
    "t_score = (sample_mean - pop_mean) / (pop_std / math.sqrt(n))\n",
    "\n",
    "df = n - 1\n",
    "t_crit = t.ppf((1+confidence_level)/2, df) \n",
    "print(f't statistic for {n} samples with {confidence_level*100:.0f}% confidence is : {t_crit:.4f}')\n",
    "\n",
    "margin_of_error = t_crit * (pop_std / math.sqrt(n))\n",
    "\n",
    "lower_bound = sample_mean - margin_of_error\n",
    "upper_bound = sample_mean + margin_of_error\n",
    "\n",
    "print(f\"The {confidence_level*100:.0f}% confidence interval for the true population mean is ({lower_bound:.3f}, {upper_bound:.3f})\")"
   ]
  },
  {
   "cell_type": "code",
   "execution_count": 13,
   "id": "86c76556-e76d-4f29-82cc-c8397bfd8389",
   "metadata": {},
   "outputs": [
    {
     "name": "stdout",
     "output_type": "stream",
     "text": [
      "t-statistic: -5.477\n",
      "t-critical value: 1.699\n",
      "90% Confidence Interval: (0.234, 0.266)\n",
      "Reject the null hypothesis\n",
      "Caffeine has a significant effect on reaction time\n"
     ]
    }
   ],
   "source": [
    "#Q14\n",
    "import math\n",
    "import scipy.stats as stats\n",
    "\n",
    "null_hypothesis = \"Caffeine has no significant effect on reaction time\"\n",
    "alternative_hypothesis = \"Caffeine has a significant effect on reaction time\"\n",
    "\n",
    "sample_mean = 0.25 \n",
    "sample_std_dev = 0.05  \n",
    "n = 30 \n",
    "pop_mean = 0.3 \n",
    "alpha = 0.1 \n",
    "\n",
    "t_stat = (sample_mean - pop_mean) / (sample_std_dev / math.sqrt(n))\n",
    "\n",
    "t_crit = stats.t.ppf(1-alpha/2, df=n-1)\n",
    "\n",
    "margin_of_error = t_crit * (sample_std_dev / math.sqrt(n))\n",
    "lower_ci = sample_mean - margin_of_error\n",
    "upper_ci = sample_mean + margin_of_error\n",
    "\n",
    "print(f\"t-statistic: {t_stat:.3f}\")\n",
    "print(f\"t-critical value: {t_crit:.3f}\")\n",
    "print(f\"90% Confidence Interval: ({lower_ci:.3f}, {upper_ci:.3f})\")\n",
    "\n",
    "if abs(t_stat) > t_crit:\n",
    "    print(\"Reject the null hypothesis\")\n",
    "    print(alternative_hypothesis)\n",
    "else:\n",
    "    print(\"Fail to reject the null hypothesis\")\n",
    "    print(null_hypothesis)\n"
   ]
  },
  {
   "cell_type": "code",
   "execution_count": null,
   "id": "afe2a2be-e7ae-462e-9e32-a35b15a8e717",
   "metadata": {},
   "outputs": [],
   "source": []
  }
 ],
 "metadata": {
  "kernelspec": {
   "display_name": "Python 3 (ipykernel)",
   "language": "python",
   "name": "python3"
  },
  "language_info": {
   "codemirror_mode": {
    "name": "ipython",
    "version": 3
   },
   "file_extension": ".py",
   "mimetype": "text/x-python",
   "name": "python",
   "nbconvert_exporter": "python",
   "pygments_lexer": "ipython3",
   "version": "3.10.8"
  }
 },
 "nbformat": 4,
 "nbformat_minor": 5
}
